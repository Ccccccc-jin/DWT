{
 "cells": [
  {
   "cell_type": "code",
   "execution_count": 2,
   "metadata": {
    "ExecuteTime": {
     "end_time": "2018-05-29T17:10:15.031715Z",
     "start_time": "2018-05-29T17:10:13.189149Z"
    }
   },
   "outputs": [],
   "source": [
    "import os\n",
    "import re\n",
    "from collections import defaultdict\n",
    "import tqdm\n",
    "\n",
    "import librosa"
   ]
  },
  {
   "cell_type": "code",
   "execution_count": 10,
   "metadata": {
    "ExecuteTime": {
     "end_time": "2018-05-29T17:27:24.782077Z",
     "start_time": "2018-05-29T17:27:24.775014Z"
    }
   },
   "outputs": [],
   "source": [
    "DATA_PATH = 'data/SMD_Western-Music/mp3/'\n",
    "FEATURES_DIR = './features/SMD_Western-Music'\n",
    "os.makedirs(FEATURES_DIR, exist_ok=True)\n",
    "SAMPLING_RATE = 10\n",
    "SAMPLING_RATE = 16000"
   ]
  },
  {
   "cell_type": "code",
   "execution_count": 5,
   "metadata": {
    "ExecuteTime": {
     "end_time": "2018-05-29T17:10:17.482075Z",
     "start_time": "2018-05-29T17:10:17.456888Z"
    }
   },
   "outputs": [],
   "source": [
    "def load_SMD_Western_Music_data(data_path, sr) :\n",
    "    files = os.listdir(data_path)\n",
    "    pat = re.compile(r'([^_]*_[^_]*)_.*')\n",
    "    \n",
    "    mid_sr = 100\n",
    "    group_composes = defaultdict(lambda: list())\n",
    "    for file_name in tqdm.tqdm(files):\n",
    "        path = os.path.join(data_path, file_name)\n",
    "        if sr < mid_sr:\n",
    "            y, _ = librosa.load(path, sr=mid_sr)\n",
    "            y = librosa.resample(y, mid_sr, sr)\n",
    "        else:\n",
    "            y, _ = librosa.load(path, sr=sr)\n",
    "        group_composes[pat.search(file_name).group(1)].append((file_name, y))\n",
    "    return group_composes"
   ]
  },
  {
   "cell_type": "code",
   "execution_count": 6,
   "metadata": {
    "ExecuteTime": {
     "end_time": "2018-05-29T17:20:41.690917Z",
     "start_time": "2018-05-29T17:10:18.992729Z"
    }
   },
   "outputs": [
    {
     "name": "stderr",
     "output_type": "stream",
     "text": [
      "100%|██████████| 42/42 [10:22<00:00, 14.83s/it]\n"
     ]
    }
   ],
   "source": [
    "group_composes = load_SMD_Western_Music_data(DATA_PATH, SAMPLING_RATE)"
   ]
  },
  {
   "cell_type": "code",
   "execution_count": 7,
   "metadata": {
    "ExecuteTime": {
     "end_time": "2018-05-29T17:21:13.976746Z",
     "start_time": "2018-05-29T17:21:13.970078Z"
    }
   },
   "outputs": [
    {
     "name": "stdout",
     "output_type": "stream",
     "text": [
      "Brahms_Op108-03 2\n",
      "Ravel_PianoTrio-01 3\n",
      "Debussy_L140-02 4\n",
      "Chopin_Op060 2\n",
      "Ravel_PianoTrio-02 2\n",
      "Debussy_L140-03 4\n",
      "Debussy_L140-01 4\n",
      "Mozart_KV448-01 2\n",
      "Brahms_Op034b-03 2\n",
      "Martin_Trio-02 2\n",
      "Brahms_Op108-02 3\n",
      "Ravel_PianoTrio-04 2\n",
      "Ravel_PianoTrio-03 2\n",
      "Rachmaninoff_Op005-04 2\n",
      "Rachmaninoff_Op005-01 2\n",
      "Brahms_Op108-04 2\n",
      "Brahms_Op108-01 2\n"
     ]
    }
   ],
   "source": [
    "for key, val in group_composes.items():\n",
    "    print(key, len(val))"
   ]
  },
  {
   "cell_type": "code",
   "execution_count": 8,
   "metadata": {
    "ExecuteTime": {
     "end_time": "2018-05-29T17:21:25.184246Z",
     "start_time": "2018-05-29T17:21:25.177505Z"
    }
   },
   "outputs": [],
   "source": [
    "shift = 100 # ms\n",
    "window  = 200 # ms\n",
    "\n",
    "hop_length = int(SAMPLING_RATE * shift / 1000.0)\n",
    "n_fft = int(SAMPLING_RATE * window / 1000.0)"
   ]
  },
  {
   "cell_type": "code",
   "execution_count": 12,
   "metadata": {
    "ExecuteTime": {
     "end_time": "2018-05-29T17:28:27.014090Z",
     "start_time": "2018-05-29T17:27:42.266698Z"
    }
   },
   "outputs": [
    {
     "name": "stderr",
     "output_type": "stream",
     "text": [
      "100%|██████████| 17/17 [00:44<00:00,  2.63s/it]\n"
     ]
    }
   ],
   "source": [
    "import numpy\n",
    "numpy.set_printoptions(threshold=numpy.nan, linewidth=1000)\n",
    "\n",
    "for name, compositions in tqdm.tqdm(group_composes.items()):\n",
    "    path = os.path.join(FEATURES_DIR, '{}.txt'.format(name))\n",
    "    with open(path, 'w') as f:\n",
    "        for rel_name, y in compositions:\n",
    "            features = librosa.feature.chroma_stft(y, sr=SAMPLING_RATE, n_fft=n_fft, hop_length=hop_length)\n",
    "            print(features.T, file=f)"
   ]
  },
  {
   "cell_type": "code",
   "execution_count": null,
   "metadata": {},
   "outputs": [],
   "source": []
  }
 ],
 "metadata": {
  "kernelspec": {
   "display_name": "Python 3",
   "language": "python",
   "name": "python3"
  },
  "language_info": {
   "codemirror_mode": {
    "name": "ipython",
    "version": 3
   },
   "file_extension": ".py",
   "mimetype": "text/x-python",
   "name": "python",
   "nbconvert_exporter": "python",
   "pygments_lexer": "ipython3",
   "version": "3.6.4"
  }
 },
 "nbformat": 4,
 "nbformat_minor": 2
}
